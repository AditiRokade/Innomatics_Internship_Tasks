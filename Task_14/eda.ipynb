{
 "cells": [
  {
   "cell_type": "code",
   "execution_count": null,
   "metadata": {},
   "outputs": [],
   "source": [
    "import pandas as pd\n",
    "import numpy as np\n",
    "import matplotlib.pyplot as plt\n",
    "import seaborn as sns\n"
   ]
  },
  {
   "attachments": {},
   "cell_type": "markdown",
   "metadata": {},
   "source": [
    "# Step 1: Data Description and Objective\n",
    "\n",
    "The dataset was released by Aspiring Minds from the Aspiring Mind Employment Outcome 2015 (AMEO). The study is primarily limited  only to students with engineering disciplines. The dataset contains the employment outcomes of engineering graduates as dependent variables (Salary, Job Titles, and Job Locations) along with the standardized scores from three different areas – cognitive skills, technical skills and personality skills. The dataset also contains demographic features. The dataset  contains  around  40 independent variables and 4000 data points. The independent variables are both continuous and categorical in nature. The dataset contains a unique identifier for each candidate. Below mentioned table contains the details for the original dataset. \n",
    "\n"
   ]
  },
  {
   "attachments": {},
   "cell_type": "markdown",
   "metadata": {},
   "source": [
    "# Step 2: Import the Data and display the Head, Shape, and Description of the Data"
   ]
  },
  {
   "cell_type": "code",
   "execution_count": null,
   "metadata": {},
   "outputs": [],
   "source": [
    "\n",
    "df = pd.read_csv(\"aspiring_minds_employability_outcomes_2015.csv\")\n",
    "print(df.head())\n",
    "print(df.shape)\n",
    "print(df.describe())\n"
   ]
  },
  {
   "cell_type": "code",
   "execution_count": null,
   "metadata": {},
   "outputs": [],
   "source": [
    "df.columns"
   ]
  },
  {
   "cell_type": "code",
   "execution_count": null,
   "metadata": {},
   "outputs": [],
   "source": [
    "from datetime import date\n",
    "# define a lambda function to calculate age from DOB\n",
    "def calculate_age(dob):\n",
    "    dob_date = pd.to_datetime(dob, format='%d-%m-%Y %H:%M').date()\n",
    "    today = date.today()\n",
    "    age = today.year - dob_date.year - ((today.month, today.day) < (dob_date.month, dob_date.day))\n",
    "    return age"
   ]
  },
  {
   "cell_type": "code",
   "execution_count": null,
   "metadata": {},
   "outputs": [],
   "source": [
    "# apply the lambda function to create a new 'age' column\n",
    "df['age'] = df['DOB'].apply(lambda x: calculate_age(x))\n",
    "print(df)"
   ]
  },
  {
   "attachments": {},
   "cell_type": "markdown",
   "metadata": {},
   "source": [
    "\n",
    "# Step 3: Univariate Analysis\n",
    "'''\n",
    "Perform univariate analysis on numerical columns using PDF, Histograms,\n",
    "Boxplots, etc. to understand the probability and frequency distribution\n",
    "of each numerical column. Find the outliers and mention observations.\n",
    "Similarly, perform univariate analysis on categorical variables/columns\n",
    "to understand the frequency distribution of each categorical column and\n",
    "mention observations.\n",
    "'''\n"
   ]
  },
  {
   "cell_type": "code",
   "execution_count": null,
   "metadata": {},
   "outputs": [],
   "source": [
    "# PDF and Histogram\n",
    "num_cols = df.select_dtypes(include=np.number).columns\n",
    "for col in num_cols:\n",
    "    sns.distplot(df[col])\n",
    "    plt.show()\n",
    "\n",
    "# Boxplot\n",
    "for col in num_cols:\n",
    "    sns.boxplot(df[col])\n",
    "    plt.show()\n",
    "\n",
    "\n",
    "\n"
   ]
  },
  {
   "cell_type": "code",
   "execution_count": null,
   "metadata": {},
   "outputs": [],
   "source": [
    "# # Countplot\n",
    "# df=df.drop(df['unnamed'])\n",
    "# cat_cols = df.select_dtypes(include='object').columns\n",
    "# for col in cat_cols:\n",
    "#     sns.countplot(df[col])\n",
    "#     plt.show()"
   ]
  },
  {
   "attachments": {},
   "cell_type": "markdown",
   "metadata": {},
   "source": [
    "# Step 4: Bivariate Analysis\n",
    "'''\n",
    "Discover the relationships between numerical columns using scatter plots,\n",
    "hexbin plots, pair plots, etc. Identify patterns between categorical and\n",
    "numerical columns using swarmplot, boxplot, barplot, etc. Mention observations\n",
    "after each plot.\n",
    "'''"
   ]
  },
  {
   "cell_type": "code",
   "execution_count": null,
   "metadata": {},
   "outputs": [],
   "source": [
    "\n",
    "\n",
    "# Scatter plot\n",
    "sns.scatterplot(x='age', y='Salary', data=df)\n",
    "plt.show()\n",
    "\n",
    "\n"
   ]
  },
  {
   "cell_type": "code",
   "execution_count": null,
   "metadata": {},
   "outputs": [],
   "source": [
    "# Swarm plot\n",
    "sns.set(style=\"whitegrid\")\n",
    "ax = sns.stripplot(x='Gender', y='Specialization', data=df)\n",
    "plt.figure(figsize=(8,6))\n",
    "ax.set_xlabel('Gender', fontsize=14)\n",
    "ax.set_ylabel('Specialization', fontsize=5)  # set the font size\n",
    "plt.show()"
   ]
  },
  {
   "cell_type": "code",
   "execution_count": null,
   "metadata": {},
   "outputs": [],
   "source": [
    "df.columns"
   ]
  },
  {
   "cell_type": "code",
   "execution_count": null,
   "metadata": {},
   "outputs": [],
   "source": [
    "df.head(2)"
   ]
  },
  {
   "attachments": {},
   "cell_type": "markdown",
   "metadata": {},
   "source": [
    "# Step 5: Research Questions"
   ]
  },
  {
   "cell_type": "code",
   "execution_count": null,
   "metadata": {},
   "outputs": [],
   "source": [
    "# Question 1: Testing the claim made by \"Times of India\" article dated Jan 18, 2019.\n",
    "# Test if taking up jobs as a Programming Analyst, Software Engineer, Hardware Engineer, and Associate Engineer can earn up to 2.5-3 lakhs as a fresh graduate.\n",
    "\n",
    "salary_range = df[(df['JobCity'] == 'Bangalore') & (df['Specialization'].isin(['Computer Science', 'Electronics']))]['Salary']\n",
    "\n",
    "if salary_range.between(250000, 300000).all():\n",
    "    print(\"The claim made by 'Times of India' article dated Jan 18, 2019 has been verified.\")\n",
    "else:\n",
    "    print(\"The claim made by 'Times of India' article dated Jan 18, 2019 is not valid.\")"
   ]
  },
  {
   "cell_type": "code",
   "execution_count": null,
   "metadata": {},
   "outputs": [],
   "source": [
    "# Question 2: Is there a relationship between gender and specialization?\n",
    "# Determine if the preference of specialization depends on the gender.\n",
    "\n",
    "sns.catplot(x=\"Gender\", y=\"Salary\", hue=\"Specialization\", data=df, kind=\"box\")\n",
    "plt.show()\n"
   ]
  },
  {
   "cell_type": "code",
   "execution_count": null,
   "metadata": {},
   "outputs": [],
   "source": [
    "sns.catplot(x=\"Gender\", y=\"Degree\", hue=\"Specialization\", data=df, kind=\"strip\")\n",
    "plt.figure(figsize=(8,6))\n",
    "ax.set_xlabel('Gender', fontsize=14)\n",
    "ax.set_ylabel('Degree', fontsize=5)  # set the font size\n",
    "plt.show()"
   ]
  },
  {
   "cell_type": "code",
   "execution_count": null,
   "metadata": {},
   "outputs": [],
   "source": [
    "# Step 7: Feature Transformation\n",
    "\n",
    "# For Numerical Features: Standardization\n",
    "from sklearn.preprocessing import StandardScaler\n",
    "\n",
    "num_cols = df.select_dtypes(include=np.number).columns\n",
    "scaler = StandardScaler()\n",
    "df[num_cols] = scaler.fit_transform(df[num_cols])\n"
   ]
  },
  {
   "cell_type": "code",
   "execution_count": null,
   "metadata": {},
   "outputs": [],
   "source": [
    "\n",
    "# For Categorical Features: Dummy Variables\n",
    "df.shape\n",
    "df = pd.get_dummies(df, columns = ['Designation', 'JobCity', '10board', '12board', 'Degree', 'Specialization', 'CollegeState'])\n",
    "df.shape\n",
    "df['Gender'] = df['Gender'].map({'m' : 1, 'f' : 0})\n",
    "df = df.drop(['Unnamed: 0','DOJ','DOL','DOB'], axis = 1)\n",
    "df.shape\n",
    "df.head(5)"
   ]
  },
  {
   "cell_type": "code",
   "execution_count": null,
   "metadata": {},
   "outputs": [],
   "source": []
  }
 ],
 "metadata": {
  "kernelspec": {
   "display_name": "env",
   "language": "python",
   "name": "env"
  },
  "language_info": {
   "codemirror_mode": {
    "name": "ipython",
    "version": 3
   },
   "file_extension": ".py",
   "mimetype": "text/x-python",
   "name": "python",
   "nbconvert_exporter": "python",
   "pygments_lexer": "ipython3",
   "version": "3.10.9"
  },
  "orig_nbformat": 4
 },
 "nbformat": 4,
 "nbformat_minor": 2
}
