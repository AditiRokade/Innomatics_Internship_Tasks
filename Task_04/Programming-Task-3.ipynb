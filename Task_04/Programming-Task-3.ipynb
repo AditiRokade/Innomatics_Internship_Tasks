{
 "cells": [
  {
   "attachments": {},
   "cell_type": "markdown",
   "metadata": {},
   "source": [
    "# Python maths"
   ]
  },
  {
   "cell_type": "code",
   "execution_count": null,
   "metadata": {},
   "outputs": [],
   "source": [
    "#Q1 POlar Coordinates\n",
    "# Enter your code here. Read input from STDIN. Print output to STDOUT\n",
    "z = complex(input())\n",
    "x=z.real\n",
    "y=z.imag\n",
    "import cmath\n",
    "arg =cmath.phase(complex(x,y))\n",
    "mod = abs(complex(x, y))\n",
    "print(mod)\n",
    "print(arg)\n"
   ]
  },
  {
   "cell_type": "code",
   "execution_count": null,
   "metadata": {},
   "outputs": [],
   "source": [
    "#Q2 Angle MBC\n",
    "import math\n",
    "ab,bc = int(input()),int(input())\n",
    "angle = math.degrees(math.atan(ab / bc))\n",
    "print(f'{angle:.0f}{chr(176)}')"
   ]
  },
  {
   "cell_type": "code",
   "execution_count": null,
   "metadata": {},
   "outputs": [],
   "source": [
    "#Q3 Triangle Quest 2\n",
    "n = int(input())\n",
    "for i in range(1,n+1):\n",
    "    out = []\n",
    "    for i in range(1,i+1):\n",
    "        out.append(str(i))\n",
    "    for i in range(i-1, 0, -1):\n",
    "        out.append(str(i))\n",
    "    print(''.join(out))"
   ]
  },
  {
   "cell_type": "code",
   "execution_count": null,
   "metadata": {},
   "outputs": [],
   "source": [
    "#Q4 Mod Divmod\n",
    "# Enter your code here. Read input from STDIN. Print output to STDOUT\n",
    "a,b =int(input()),int(input())\n",
    "print(a//b)\n",
    "print(a%b)\n",
    "print(divmod(a,b))"
   ]
  },
  {
   "cell_type": "code",
   "execution_count": null,
   "metadata": {},
   "outputs": [],
   "source": [
    "#Q5 Power Mod Power\n",
    "# Enter your code here. Read input from STDIN. Print output to STDOUT\n",
    "a,b,m =int(input()),int(input()),int(input())\n",
    "print(pow(a,b))\n",
    "print(pow(a,b,m))"
   ]
  },
  {
   "cell_type": "code",
   "execution_count": null,
   "metadata": {},
   "outputs": [],
   "source": [
    "#Q6 Integers Come in All sizes\n",
    "# Enter your code here. Read input from STDIN. Print output to STDOUT\n",
    "a,b,c,d =int(input()),int(input()),int(input()),int(input())\n",
    "print(pow(a,b)+pow(c,d))"
   ]
  },
  {
   "cell_type": "code",
   "execution_count": null,
   "metadata": {},
   "outputs": [],
   "source": [
    "#Q7 Trianlge Quest\n",
    "for i in range(1,int(input())): \n",
    "    print(pow(10,i-1)*i+int(pow(10,i-2)*i)+int(pow(10,i-3)*i)+int(pow(10,i-4)*i)+int(pow(10,i-5)*i)+int(pow(10,i-6)*i)+int(pow(10,i-7)*i)+int(pow(10,i-8)*i)+int(pow(10,i-9)*i))"
   ]
  }
 ],
 "metadata": {
  "language_info": {
   "name": "python"
  },
  "orig_nbformat": 4
 },
 "nbformat": 4,
 "nbformat_minor": 2
}
