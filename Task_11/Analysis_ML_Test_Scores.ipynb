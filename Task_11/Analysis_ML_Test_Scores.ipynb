{
 "cells": [
  {
   "cell_type": "markdown",
   "metadata": {},
   "source": []
  },
  {
   "cell_type": "code",
   "execution_count": 1,
   "metadata": {},
   "outputs": [],
   "source": [
    "import pandas as pd\n",
    "import numpy as np\n",
    "import matplotlib.pyplot as plt\n",
    "\n"
   ]
  },
  {
   "cell_type": "code",
   "execution_count": 2,
   "metadata": {},
   "outputs": [],
   "source": [
    "# load data into pandas dataframe\n",
    "data = pd.read_csv(\"E:\\Innomatics_internship\\Tasks\\Task_11\\scores_data.csv\")\n",
    "\n"
   ]
  },
  {
   "cell_type": "code",
   "execution_count": 3,
   "metadata": {},
   "outputs": [
    {
     "data": {
      "text/html": [
       "<div>\n",
       "<style scoped>\n",
       "    .dataframe tbody tr th:only-of-type {\n",
       "        vertical-align: middle;\n",
       "    }\n",
       "\n",
       "    .dataframe tbody tr th {\n",
       "        vertical-align: top;\n",
       "    }\n",
       "\n",
       "    .dataframe thead th {\n",
       "        text-align: right;\n",
       "    }\n",
       "</style>\n",
       "<table border=\"1\" class=\"dataframe\">\n",
       "  <thead>\n",
       "    <tr style=\"text-align: right;\">\n",
       "      <th></th>\n",
       "      <th>Batch</th>\n",
       "      <th>User_ID</th>\n",
       "      <th>Score</th>\n",
       "    </tr>\n",
       "  </thead>\n",
       "  <tbody>\n",
       "    <tr>\n",
       "      <th>0</th>\n",
       "      <td>AI_ELITE_7</td>\n",
       "      <td>uid_149</td>\n",
       "      <td>6 / 7</td>\n",
       "    </tr>\n",
       "    <tr>\n",
       "      <th>1</th>\n",
       "      <td>AI_ELITE_7</td>\n",
       "      <td>uid_148</td>\n",
       "      <td>6 / 7</td>\n",
       "    </tr>\n",
       "    <tr>\n",
       "      <th>2</th>\n",
       "      <td>AI_ELITE_7</td>\n",
       "      <td>uid_147</td>\n",
       "      <td>7 / 7</td>\n",
       "    </tr>\n",
       "    <tr>\n",
       "      <th>3</th>\n",
       "      <td>AI_ELITE_7</td>\n",
       "      <td>uid_146</td>\n",
       "      <td>7 / 7</td>\n",
       "    </tr>\n",
       "    <tr>\n",
       "      <th>4</th>\n",
       "      <td>AI_ELITE_7</td>\n",
       "      <td>uid_145</td>\n",
       "      <td>4 / 7</td>\n",
       "    </tr>\n",
       "  </tbody>\n",
       "</table>\n",
       "</div>"
      ],
      "text/plain": [
       "       Batch  User_ID     Score   \n",
       "0  AI_ELITE_7  uid_149       6 / 7\n",
       "1  AI_ELITE_7  uid_148       6 / 7\n",
       "2  AI_ELITE_7  uid_147       7 / 7\n",
       "3  AI_ELITE_7  uid_146       7 / 7\n",
       "4  AI_ELITE_7  uid_145       4 / 7"
      ]
     },
     "execution_count": 3,
     "metadata": {},
     "output_type": "execute_result"
    }
   ],
   "source": [
    "data.head(5)"
   ]
  },
  {
   "cell_type": "code",
   "execution_count": 4,
   "metadata": {},
   "outputs": [
    {
     "data": {
      "text/plain": [
       "Index(['Batch ', 'User_ID ', '   Score   '], dtype='object')"
      ]
     },
     "execution_count": 4,
     "metadata": {},
     "output_type": "execute_result"
    }
   ],
   "source": [
    "data.columns"
   ]
  },
  {
   "cell_type": "code",
   "execution_count": 6,
   "metadata": {},
   "outputs": [
    {
     "name": "stdout",
     "output_type": "stream",
     "text": [
      "<class 'pandas.core.frame.DataFrame'>\n",
      "RangeIndex: 149 entries, 0 to 148\n",
      "Data columns (total 3 columns):\n",
      " #   Column       Non-Null Count  Dtype \n",
      "---  ------       --------------  ----- \n",
      " 0   Batch        149 non-null    object\n",
      " 1   User_ID      149 non-null    object\n",
      " 2      Score     149 non-null    object\n",
      "dtypes: object(3)\n",
      "memory usage: 3.6+ KB\n"
     ]
    }
   ],
   "source": [
    "data.info()"
   ]
  },
  {
   "cell_type": "code",
   "execution_count": 7,
   "metadata": {},
   "outputs": [],
   "source": [
    "data.columns = data.columns.str.strip()"
   ]
  },
  {
   "cell_type": "code",
   "execution_count": 12,
   "metadata": {},
   "outputs": [
    {
     "data": {
      "text/plain": [
       "array(['AI_ELITE_7', 'AI_ELITE_6', 'AI_ELITE_4'], dtype=object)"
      ]
     },
     "execution_count": 12,
     "metadata": {},
     "output_type": "execute_result"
    }
   ],
   "source": [
    "data.Batch.unique()"
   ]
  },
  {
   "cell_type": "code",
   "execution_count": 13,
   "metadata": {},
   "outputs": [
    {
     "data": {
      "text/plain": [
       "array(['6 / 7', '7 / 7', '4 / 7', '5 / 7', '3 / 7', '2 / 7', '0 / 7',\n",
       "       '1 / 7'], dtype=object)"
      ]
     },
     "execution_count": 13,
     "metadata": {},
     "output_type": "execute_result"
    }
   ],
   "source": [
    "data.Score.unique()"
   ]
  },
  {
   "cell_type": "code",
   "execution_count": 14,
   "metadata": {},
   "outputs": [],
   "source": [
    "data['Score'] = data['Score'].str.replace(' / 7', '')\n",
    "data['Score'] = data['Score'].astype('int')"
   ]
  },
  {
   "cell_type": "code",
   "execution_count": 18,
   "metadata": {},
   "outputs": [],
   "source": [
    "batch1 = data[data.Batch=='AI_ELITE_4']\n",
    "batch2 = data[data.Batch=='AI_ELITE_6']\n",
    "batch3 = data[data.Batch=='AI_ELITE_7']"
   ]
  },
  {
   "cell_type": "code",
   "execution_count": 26,
   "metadata": {},
   "outputs": [
    {
     "name": "stdout",
     "output_type": "stream",
     "text": [
      "            count      mean       std  min  25%  50%   75%  max\n",
      "Batch                                                          \n",
      "AI_ELITE_4   48.0  3.791667  1.443376  0.0  3.0  4.0  4.25  7.0\n",
      "AI_ELITE_6   48.0  4.229167  1.640441  0.0  3.0  4.0  5.00  7.0\n",
      "AI_ELITE_7   53.0  5.056604  1.446682  2.0  4.0  5.0  6.00  7.0\n"
     ]
    }
   ],
   "source": [
    "batch_summary = data.groupby('Batch')['Score'].describe()\n",
    "\n",
    "# Print the summary statistics for each batch\n",
    "print(batch_summary)\n",
    "\n"
   ]
  },
  {
   "cell_type": "code",
   "execution_count": 27,
   "metadata": {},
   "outputs": [
    {
     "name": "stdout",
     "output_type": "stream",
     "text": [
      "Highest score in AI_ELITE_4: 7.0\n",
      "Lowest score in AI_ELITE_4: 0.0\n",
      "Highest score in AI_ELITE_6: 7.0\n",
      "Lowest score in AI_ELITE_6: 0.0\n",
      "Highest score in AI_ELITE_7: 7.0\n",
      "Lowest score in AI_ELITE_7: 2.0\n"
     ]
    }
   ],
   "source": [
    "# Find the highest and lowest scores in each batch\n",
    "for batch in batch_summary.index:\n",
    "    min_score = batch_summary.loc[batch, 'min']\n",
    "    max_score = batch_summary.loc[batch, 'max']\n",
    "    print(f\"Highest score in {batch}: {max_score}\")\n",
    "    print(f\"Lowest score in {batch}: {min_score}\")"
   ]
  },
  {
   "cell_type": "code",
   "execution_count": 34,
   "metadata": {},
   "outputs": [
    {
     "name": "stderr",
     "output_type": "stream",
     "text": [
      "C:\\Users\\aditi\\AppData\\Local\\Temp\\ipykernel_17648\\2356131502.py:6: FutureWarning: The default value of numeric_only in DataFrameGroupBy.mean is deprecated. In a future version, numeric_only will default to False. Either specify numeric_only or select only columns which should be valid for the function.\n",
      "  mean_scores = grouped_data.mean()[\"Score\"]\n"
     ]
    },
    {
     "data": {
      "image/png": "[encoded data removed]",
      "text/plain": [
       "<Figure size 640x480 with 1 Axes>"
      ]
     },
     "metadata": {},
     "output_type": "display_data"
    }
   ],
   "source": [
    "import seaborn as sns\n",
    "# Group the data by batch\n",
    "grouped_data = data.groupby(\"Batch\")\n",
    "\n",
    "# Calculate the mean score for each batch\n",
    "mean_scores = grouped_data.mean()[\"Score\"]\n",
    "# Create a bar chart of the mean scores\n",
    "sns.barplot(x=mean_scores.index, y=mean_scores.values)\n",
    "plt.title(\"Mean Scores by Batch\")\n",
    "plt.xlabel(\"Batch\")\n",
    "plt.ylabel(\"Mean Score\")\n",
    "\n",
    "# Create a scatter plot of the individual scores\n",
    "sns.scatterplot(x=data[\"Batch\"], y=data[\"Score\"])\n",
    "plt.title(\"Scores for Each Student by Batch\")\n",
    "plt.xlabel(\"Batch\")\n",
    "plt.ylabel(\"Score\")\n",
    "\n",
    "plt.show()"
   ]
  },
  {
   "cell_type": "code",
   "execution_count": 40,
   "metadata": {},
   "outputs": [
    {
     "name": "stdout",
     "output_type": "stream",
     "text": [
      "User having high score in AI_ELITE_4 4\n"
     ]
    }
   ],
   "source": [
    "high_score1 = batch1[batch1.Score >= 6]\n",
    "print(\"User having high score in AI_ELITE_4: \",high_score1.User_ID.count())"
   ]
  },
  {
   "cell_type": "code",
   "execution_count": 42,
   "metadata": {},
   "outputs": [
    {
     "name": "stdout",
     "output_type": "stream",
     "text": [
      "User having high score in AI_ELITE_6:  9\n"
     ]
    }
   ],
   "source": [
    "high_score2 = batch2[batch2.Score >= 6]\n",
    "print(\"User having high score in AI_ELITE_6: \",high_score2.User_ID.count())"
   ]
  },
  {
   "cell_type": "code",
   "execution_count": 43,
   "metadata": {},
   "outputs": [
    {
     "name": "stdout",
     "output_type": "stream",
     "text": [
      "User having high score in AI_ELITE_7:  23\n"
     ]
    }
   ],
   "source": [
    "high_score3 = batch3[batch3.Score >= 6]\n",
    "print(\"User having high score in AI_ELITE_7: \",high_score3.User_ID.count())"
   ]
  },
  {
   "cell_type": "code",
   "execution_count": 46,
   "metadata": {},
   "outputs": [
    {
     "name": "stdout",
     "output_type": "stream",
     "text": [
      "User having low score in AI_ELITE_4:  9\n"
     ]
    }
   ],
   "source": [
    "low_score1 = batch1[batch1.Score <= 2]\n",
    "print(\"User having low score in AI_ELITE_4: \",low_score1.User_ID.count())"
   ]
  },
  {
   "cell_type": "code",
   "execution_count": 47,
   "metadata": {},
   "outputs": [
    {
     "name": "stdout",
     "output_type": "stream",
     "text": [
      "User having low score in AI_ELITE_6:  6\n"
     ]
    }
   ],
   "source": [
    "low_score2 = batch2[batch2.Score <=2]\n",
    "print(\"User having low score in AI_ELITE_6: \",low_score2.User_ID.count())"
   ]
  },
  {
   "cell_type": "code",
   "execution_count": 48,
   "metadata": {},
   "outputs": [
    {
     "name": "stdout",
     "output_type": "stream",
     "text": [
      "User having low score in AI_ELITE_7:  2\n"
     ]
    }
   ],
   "source": [
    "low_score3 = batch3[batch3.Score <=2]\n",
    "print(\"User having low score in AI_ELITE_7: \",low_score3.User_ID.count())"
   ]
  }
 ],
 "metadata": {
  "kernelspec": {
   "display_name": "env",
   "language": "python",
   "name": "python3"
  },
  "language_info": {
   "codemirror_mode": {
    "name": "ipython",
    "version": 3
   },
   "file_extension": ".py",
   "mimetype": "text/x-python",
   "name": "python",
   "nbconvert_exporter": "python",
   "pygments_lexer": "ipython3",
   "version": "3.10.9"
  },
  "orig_nbformat": 4
 },
 "nbformat": 4,
 "nbformat_minor": 2
}
