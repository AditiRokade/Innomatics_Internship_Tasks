{
 "cells": [
  {
   "attachments": {},
   "cell_type": "markdown",
   "metadata": {},
   "source": [
    "# Python basic programming"
   ]
  },
  {
   "cell_type": "code",
   "execution_count": 1,
   "metadata": {},
   "outputs": [
    {
     "name": "stdout",
     "output_type": "stream",
     "text": [
      "Hello, World!\n"
     ]
    }
   ],
   "source": [
    "#Q1:Say \"Hello, World!\" with python\n",
    "print(\"Hello, World!\")"
   ]
  },
  {
   "cell_type": "code",
   "execution_count": null,
   "metadata": {},
   "outputs": [],
   "source": [
    "#Q2:Python if-else\n",
    "n=int(input())\n",
    "if n%2!=0 :\n",
    "    print(\"Weird\")\n",
    "elif n%2==0 & 2<=n<5:\n",
    "    print(\"Not Weird\")\n",
    "elif n%2==0 & 6<=n<=20:\n",
    "    print(\"Weird\")\n",
    "else :\n",
    "    print(\"Not Weird\")\n"
   ]
  },
  {
   "cell_type": "code",
   "execution_count": null,
   "metadata": {},
   "outputs": [],
   "source": [
    "# Q3:Arithmetic operators\n",
    "if __name__ == '__main__':\n",
    "    \n",
    "    a = int(input())\n",
    "    b = int(input())\n",
    "    \n",
    "    if a>0 and b>0:\n",
    "        c=a+b\n",
    "        d=a-b\n",
    "        e=a*b\n",
    "    else:\n",
    "        print(\"Enter positive numbers\")    \n",
    "print(c)\n",
    "print(d)\n",
    "print(e)\n"
   ]
  },
  {
   "cell_type": "code",
   "execution_count": null,
   "metadata": {},
   "outputs": [],
   "source": [
    "# Q4:Python:division\n",
    "a=int(input())\n",
    "b=int(input())\n",
    "c=a//b\n",
    "print(c)\n",
    "d=a/b\n",
    "print(d)"
   ]
  },
  {
   "cell_type": "code",
   "execution_count": null,
   "metadata": {},
   "outputs": [],
   "source": [
    "# Q5:Loops\n",
    "if __name__ == '__main__':\n",
    "    n = int(input())\n",
    "    if n>=0:\n",
    "        for i in range(n):\n",
    "            c=i*i\n",
    "            print(c)"
   ]
  },
  {
   "cell_type": "code",
   "execution_count": null,
   "metadata": {},
   "outputs": [],
   "source": [
    "# Q6:Write a function(leap year)\n",
    "def is_leap(year):\n",
    "   while year>0:\n",
    "    \n",
    "    if (year % 400 == 0) and (year % 100 == 0):\n",
    "        leap=True\n",
    "    elif (year % 4 ==0) and (year % 100 != 0):\n",
    "        leap=True\n",
    "    else:\n",
    "        leap=False\n",
    "    return leap\n",
    "    \n",
    "year = int(input())\n",
    "print(is_leap(year))"
   ]
  },
  {
   "cell_type": "code",
   "execution_count": null,
   "metadata": {},
   "outputs": [],
   "source": [
    "# Q7:Print Function\n",
    "n=int(input())\n",
    "\n",
    "for i in range(1,n+1,1) :\n",
    "    print(i,end=\"\")\n"
   ]
  }
 ],
 "metadata": {
  "kernelspec": {
   "display_name": "env",
   "language": "python",
   "name": "python3"
  },
  "language_info": {
   "codemirror_mode": {
    "name": "ipython",
    "version": 3
   },
   "file_extension": ".py",
   "mimetype": "text/x-python",
   "name": "python",
   "nbconvert_exporter": "python",
   "pygments_lexer": "ipython3",
   "version": "3.10.9"
  },
  "orig_nbformat": 4
 },
 "nbformat": 4,
 "nbformat_minor": 2
}
