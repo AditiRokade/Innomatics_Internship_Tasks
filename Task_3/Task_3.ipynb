{
 "cells": [
  {
   "attachments": {},
   "cell_type": "markdown",
   "metadata": {},
   "source": [
    "# Python Datatypes and sets\n",
    "# Hackerrank"
   ]
  },
  {
   "cell_type": "code",
   "execution_count": null,
   "metadata": {},
   "outputs": [],
   "source": [
    "# Q1:List comprehension\n",
    "if __name__ == '__main__':\n",
    "    x = int(input())\n",
    "    y = int(input())\n",
    "    z = int(input())\n",
    "    n = int(input())\n",
    "                    \n",
    "l1 = l2 = l3 = 0 #3 list elements x,y,z \n",
    "l = list([l1,l2,l3] for l1 in range(x+1) for l2 in range(y+1) for l3 in range(z+1) \n",
    "if l1+l2+l3 !=n) # sum should not be equal to n\n",
    "print(l)\n"
   ]
  },
  {
   "cell_type": "code",
   "execution_count": null,
   "metadata": {},
   "outputs": [],
   "source": [
    "#Q2:Find the runner up score\n",
    "if __name__ == '__main__':\n",
    "    n = int(input())\n",
    "    A = map(int, input().split())\n",
    "    A = list(A)\n",
    "    x = max(A)\n",
    "    y = -100\n",
    "    for i in range(0,n):\n",
    "        if A[i]<x and A[i] > y:\n",
    "            y = A[i]\n",
    "    \n",
    "    print(y) \n"
   ]
  },
  {
   "cell_type": "code",
   "execution_count": null,
   "metadata": {},
   "outputs": [],
   "source": [
    "# Q3:Nested list\n",
    "if __name__ == '__main__':\n",
    "    result = []\n",
    "    for i in range(int(input())):\n",
    "        name = input()\n",
    "        score = float(input())\n",
    "        result.append([name, score])\n",
    "second_highest = sorted(set([score for name, score in result]))[1]\n",
    "print('\\n'.join(sorted([name for name, score in result if score == second_highest])))\n"
   ]
  },
  {
   "cell_type": "code",
   "execution_count": null,
   "metadata": {},
   "outputs": [],
   "source": [
    "# Q4:Finding the percentage\n",
    "if __name__ == '__main__':\n",
    "    n = int(input())\n",
    "    student_marks = {}\n",
    "    for _ in range(n):\n",
    "        name, *line = input().split()\n",
    "        scores = list(map(float, line))\n",
    "        student_marks[name] = scores\n",
    "    query_name = input()\n",
    "    query_scores = student_marks[query_name]\n",
    "    val = (sum(query_scores)/(len(query_scores)))\n",
    "    print(\"{0:.2f}\".format(val))\n"
   ]
  },
  {
   "cell_type": "code",
   "execution_count": null,
   "metadata": {},
   "outputs": [],
   "source": [
    "# Q5:List\n",
    "if __name__ == '__main__':\n",
    "    N = int(input())\n",
    "    array = []\n",
    "    for i in range(N):\n",
    "        com = input().split()\n",
    "        if com[0] == \"insert\":\n",
    "            array.insert(int(com[1]),int(com[2]))\n",
    "        elif com[0] == \"print\":\n",
    "            print(array)\n",
    "        elif com[0] == \"remove\":\n",
    "            array.remove(int(com[1]))\n",
    "        elif com[0] == \"append\":\n",
    "            array.append(int(com[1]))\n",
    "        elif com[0] == \"sort\":\n",
    "            array.sort()\n",
    "        elif com[0] == \"pop\":\n",
    "            array.pop()\n",
    "        elif com[0] == \"reverse\":\n",
    "            array.reverse()\n"
   ]
  },
  {
   "cell_type": "code",
   "execution_count": null,
   "metadata": {},
   "outputs": [],
   "source": [
    "# Q6:"
   ]
  },
  {
   "cell_type": "code",
   "execution_count": null,
   "metadata": {},
   "outputs": [],
   "source": [
    "# Q7:Introduction to Sets\n",
    "\n",
    "def average(array):\n",
    "    # your code goes here\n",
    "    s = set(array)\n",
    "    return(sum(s)/len(s))\n",
    "\n",
    "if __name__ == '__main__':\n",
    "    n = int(input())\n",
    "    arr = list(map(int, input().split()))\n",
    "    result = average(arr)\n",
    "    print(result)"
   ]
  },
  {
   "cell_type": "code",
   "execution_count": null,
   "metadata": {},
   "outputs": [],
   "source": [
    "# Q8:NO IDEA\n",
    "# Enter your code here. Read input from STDIN. Print output to STDOUT\n",
    "n = input().split()\n",
    "m = input().split()\n",
    "A = set(input().split())\n",
    "B = set(input().split())\n",
    "\n",
    "COUNTER = 0\n",
    "\n",
    "for i in m:\n",
    "    if i in A:\n",
    "        COUNTER += 1\n",
    "    if i in B:\n",
    "        COUNTER -= 1\n",
    "\n",
    "print(COUNTER)\n"
   ]
  },
  {
   "cell_type": "code",
   "execution_count": null,
   "metadata": {},
   "outputs": [],
   "source": [
    "# Q9:Symmetrics Difference\n",
    "# Enter your code here. Read input from STDIN. Print output to STDOUT\n",
    "m = int(input())\n",
    "n = int(input())\n",
    "a = set(map(int, input().split()))\n",
    "b = set(map(int, input().split()))\n",
    "c = a.difference(b)\n",
    "d = b.difference(a)\n",
    "e = c.union(d)\n",
    "RESULT = list(e)\n",
    "RESULT.sort()\n",
    "\n",
    "# Iteration\n",
    "for i in range(len(RESULT)):\n",
    "    print(RESULT[i])\n"
   ]
  },
  {
   "cell_type": "code",
   "execution_count": null,
   "metadata": {},
   "outputs": [],
   "source": [
    "# Q10:Set.add()\n",
    "N = int(input())\n",
    "A = set()\n",
    "for _ in range(N):\n",
    "    country = str(input())\n",
    "    A.add(country)\n",
    "print(len(A))"
   ]
  },
  {
   "cell_type": "code",
   "execution_count": null,
   "metadata": {},
   "outputs": [],
   "source": [
    "# Q11:Set .discard(), .remove() & .pop()\n",
    "n = int(input())\n",
    "s = set(map(int, input().split())) # Set of n elements\n",
    "\n",
    "for i in range(int(input())): # Iterate in range of the input num\n",
    "    s1 = input().split()\n",
    "    if s1[0] == 'pop':\n",
    "        s.pop()\n",
    "    elif s1[0] == 'remove':\n",
    "        s.remove(int(s1[1]))\n",
    "    elif s1[0] == 'discard':\n",
    "        s.discard(int(s1[1]))\n",
    "\n",
    "print(sum(s))\n"
   ]
  },
  {
   "cell_type": "code",
   "execution_count": null,
   "metadata": {},
   "outputs": [],
   "source": [
    "# Q12:Set.union()\n",
    "n = int(input())\n",
    "A = set(input().split())\n",
    "b = int(input())\n",
    "B = set(input().split())\n",
    "print(len(A.union(B)))"
   ]
  },
  {
   "cell_type": "code",
   "execution_count": null,
   "metadata": {},
   "outputs": [],
   "source": [
    "# Q13:Set.intersection()\n",
    "# Enter your code here. Read input from STDIN. Print output to STDOUT\n",
    "n = int(input())\n",
    "A = set(input().split())\n",
    "b = int(input())\n",
    "B = set(input().split())\n",
    "print(len(A.intersection(B)))"
   ]
  },
  {
   "cell_type": "code",
   "execution_count": null,
   "metadata": {},
   "outputs": [],
   "source": [
    "# Q14:Set.difference()\n",
    "# Enter your code here. Read input from STDIN. Print output to STDOUT\n",
    "n = int(input())\n",
    "A = set(input().split())\n",
    "b = int(input())\n",
    "B = set(input().split())\n",
    "print(len(A.difference(B)))\n"
   ]
  },
  {
   "cell_type": "code",
   "execution_count": null,
   "metadata": {},
   "outputs": [],
   "source": [
    "# Q15:set..symmetric_difference()\n",
    "# Enter your code here. Read input from STDIN. Print output to STDOUT\n",
    "n = int(input())\n",
    "A = set(input().split())\n",
    "b = int(input())\n",
    "B = set(input().split())\n",
    "print(len(A.symmetric_difference(B)))\n"
   ]
  },
  {
   "cell_type": "code",
   "execution_count": null,
   "metadata": {},
   "outputs": [],
   "source": [
    "# Q16:set mutation\n",
    "# Enter your code here. Read input from STDIN. Print output to STDOUT\n",
    "A = int(input())\n",
    "SET_A = set(map(int, input().split()))\n",
    "N = int(input())\n",
    "\n",
    "for _ in range(N):\n",
    "    operation = input().split()\n",
    "    new_set = set(map(int, input().split()))\n",
    "    eval('SET_A.{}({})'.format(operation[0], new_set))\n",
    "\n",
    "print(sum(SET_A))\n"
   ]
  },
  {
   "cell_type": "code",
   "execution_count": null,
   "metadata": {},
   "outputs": [],
   "source": [
    "# Q17:The captain's room\n",
    "# Enter your code here. Read input from STDIN. Print output to STDOUT\n",
    "\n",
    "K = int(input())\n",
    "total = list(map(int, input().split()))\n",
    "s = set(total)\n",
    "print(int((K*sum(s)-sum(total))/(K-1)))\n"
   ]
  },
  {
   "cell_type": "code",
   "execution_count": null,
   "metadata": {},
   "outputs": [],
   "source": [
    "# Q18:Check subset\n",
    "# Enter your code here. Read input from STDIN. Print output to STDOUT\n",
    "\n",
    "for i in range(int(input())):\n",
    "    a = int(input())\n",
    "    set_a = set(map(int, input().split()))\n",
    "\n",
    "    b = int(input())\n",
    "    set_b = set(map(int, input().split()))\n",
    "\n",
    "    if len(set_a - set_b) == 0:\n",
    "        print(\"True\")\n",
    "    else:\n",
    "        print(\"False\")\n"
   ]
  },
  {
   "cell_type": "code",
   "execution_count": null,
   "metadata": {},
   "outputs": [],
   "source": [
    "# Q19:Check strict superset\n",
    "# Enter your code here. Read input from STDIN. Print output to STDOUT\n",
    "A = set(input().split())\n",
    "COUNT = 0\n",
    "VALUE = 0\n",
    "\n",
    "for i in range(int(input())):\n",
    "    if A.issuperset(set(input().split())):\n",
    "        COUNT += 1\n",
    "    else:\n",
    "        VALUE += 1\n",
    "if VALUE != 0:\n",
    "    print('False')\n",
    "else:\n",
    "    print('True')\n"
   ]
  }
 ],
 "metadata": {
  "language_info": {
   "name": "python"
  },
  "orig_nbformat": 4
 },
 "nbformat": 4,
 "nbformat_minor": 2
}
